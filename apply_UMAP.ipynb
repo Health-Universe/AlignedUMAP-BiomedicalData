{
 "cells": [
  {
   "cell_type": "markdown",
   "id": "12fcda57-2d09-43f4-bc99-e5cdbb75e2bf",
   "metadata": {},
   "source": [
    "# Code to execute UMAP"
   ]
  },
  {
   "cell_type": "markdown",
   "id": "de046c57-bfbe-436a-9dbd-ec5d1b7e8d51",
   "metadata": {},
   "source": [
    "## Import libraries"
   ]
  },
  {
   "cell_type": "code",
   "execution_count": 1,
   "id": "3c4bf017-48f9-4acd-b679-c611c1acf124",
   "metadata": {},
   "outputs": [],
   "source": [
    "import copy\n",
    "import os\n",
    "import pickle\n",
    "import sys\n",
    "from collections import defaultdict\n",
    "from itertools import product\n",
    "from pathlib import Path\n",
    "\n",
    "import numpy as np\n",
    "import pandas as pd\n",
    "from omegaconf import OmegaConf\n",
    "\n",
    "# Code for umap and interpolation\n",
    "from models.umap.main import get_embedding\n",
    "from utils.interpolation import interpolate_paths"
   ]
  },
  {
   "cell_type": "markdown",
   "id": "2125795d-3a0d-4b98-9c6c-ce520d75bac5",
   "metadata": {},
   "source": [
    "## Path to configuration file"
   ]
  },
  {
   "cell_type": "code",
   "execution_count": 2,
   "id": "44d3adb7-a44d-4ed3-a9b5-aa3d81a9b449",
   "metadata": {},
   "outputs": [],
   "source": [
    "config_file = \"configs/UMAP_configuration.yaml\""
   ]
  },
  {
   "cell_type": "markdown",
   "id": "ebeaa89c-5b57-454a-80c8-24c7200bf0a8",
   "metadata": {},
   "source": [
    "## Read configuration file"
   ]
  },
  {
   "cell_type": "code",
   "execution_count": 3,
   "id": "943d376c-5049-46eb-80ea-a422f5cf973f",
   "metadata": {},
   "outputs": [],
   "source": [
    "# Process arguments of configuration file\n",
    "visualization_method = \"umap\"\n",
    "config = OmegaConf.load(config_file)\n",
    "num_cores = config['num_cores']\n",
    "if num_cores == -1:\n",
    "    num_cores = os.cpu_count()\n",
    "\n",
    "data_dir = Path(config['data_dir'])\n",
    "cache_dir = Path(config['cache_dir'])\n",
    "result_dir = Path(config['result_dir'])\n",
    "perform_interpolation = int(config['perform_interpolation'])\n",
    "\n",
    "dataset_name = config['dataset_name'].split('.csv')[0]\n",
    "metadata_name = config['metadata_name'].split('.csv')[0]\n",
    "sample_fraction = config['sample_fraction']"
   ]
  },
  {
   "cell_type": "markdown",
   "id": "ded1d579-1c10-4739-b2b8-20028ed84612",
   "metadata": {},
   "source": [
    "## Read data and metadata"
   ]
  },
  {
   "cell_type": "code",
   "execution_count": 4,
   "id": "f5f40364-e77b-48ef-8b26-323557105d76",
   "metadata": {},
   "outputs": [],
   "source": [
    "data = pd.read_csv(data_dir / f\"{dataset_name}.csv\")\n",
    "data['subject_id'] = data['subject_id'].map(lambda x: str(x))\n",
    "data['time_id'] = data['time_id'].map(lambda x: str(x))\n",
    "if not sample_fraction == 1:\n",
    "    sample_fraction = str(float(sample_fraction))\n",
    "    all_subjects = list(data.subject_id.unique())\n",
    "    selected_subjects = list(all_subjects[:int(len(all_subjects) * float(sample_fraction))])\n",
    "    sample_text = f\"_{sample_fraction}\"\n",
    "else:\n",
    "    sample_fraction = \"1.0\"\n",
    "    selected_subjects = list(data.subject_id.unique())\n",
    "    sample_text = f\"_{sample_fraction}\"\n",
    "\n",
    "data = data[data['subject_id'].isin(selected_subjects)]\n",
    "data = data.set_index(['subject_id', 'time_id'])\n",
    "if metadata_name == \"\":\n",
    "    metadata = pd.DataFrame({'subject_id':data.reset_index()['subject_id'].unique()})\n",
    "    metadata['color'] = 'NoColor'\n",
    "else:\n",
    "    metadata = pd.read_csv(data_dir / f'{metadata_name}.csv')\n",
    "\n",
    "metadata = metadata.set_index('subject_id')\n",
    "metadata.index = metadata.index.map(str)\n",
    "metadata = metadata.to_dict()"
   ]
  },
  {
   "cell_type": "markdown",
   "id": "45bb3e80-4d4d-4164-b392-5a2e56df9071",
   "metadata": {},
   "source": [
    "## Prepare list of hyperparameters"
   ]
  },
  {
   "cell_type": "code",
   "execution_count": 5,
   "id": "e60d77fa-332d-42ab-8508-7b91aa8fe963",
   "metadata": {},
   "outputs": [
    {
     "name": "stdout",
     "output_type": "stream",
     "text": [
      "-------------------------------------------------- Executing --------------------------------------------------\n",
      "Dataset filename: example_PPMI_clinical_assessment_data | Metadata filename: example_metadata_PPMI_clinical_assessment_data\n",
      "Number of hyper parameters 12\n"
     ]
    }
   ],
   "source": [
    "results_data = {}\n",
    "output_df = []\n",
    "metric_list = config['metric']\n",
    "n_neighbors = config['n_neighbors']\n",
    "min_dist = config['min_dist']\n",
    "input_parameters = []\n",
    "op = 0\n",
    "for neig, dist, metric in list(product(n_neighbors, min_dist, metric_list)):\n",
    "        op += 1\n",
    "        temp = {}\n",
    "        temp['metric'] = metric\n",
    "        temp['n_neighbors'] = neig\n",
    "        temp['min_dist'] = dist\n",
    "        temp['num_cores'] = num_cores\n",
    "        temp['sample_fraction'] = sample_fraction\n",
    "        temp['id'] = ';'.join([f\"{i}={j}\" for i,j in temp.items()])\n",
    "        temp['n_neighbors'] = int(neig)\n",
    "        temp['min_dist'] = float(dist)\n",
    "        input_parameters.append(copy.deepcopy(temp))\n",
    "\n",
    "print ('-'*50, \"Executing\", '-'*50)\n",
    "print ('Dataset filename:', dataset_name, '|', 'Metadata filename:', metadata_name)\n",
    "print ('Number of hyper parameters', len(input_parameters))"
   ]
  },
  {
   "cell_type": "markdown",
   "id": "6de0ed95-886b-4ece-ba29-a54fccbc186b",
   "metadata": {},
   "source": [
    "## Apply UMAP for all hyperparameters"
   ]
  },
  {
   "cell_type": "code",
   "execution_count": 6,
   "id": "2d7a9108-0cd1-44de-a4ac-08b7211dfc95",
   "metadata": {},
   "outputs": [
    {
     "name": "stdout",
     "output_type": "stream",
     "text": [
      "-------------------------------------------------- Hyper parameter (index=0) --------------------------------------------------\n",
      "{'metric': 'euclidean', 'n_neighbors': 3, 'min_dist': 0.01, 'num_cores': 10, 'sample_fraction': '1.0', 'id': 'metric=euclidean;n_neighbors=03;min_dist=0.01;num_cores=10;sample_fraction=1.0'}\n",
      "-------------------------------------------------- --------------------------------------------------\n",
      "UMAP running...\n",
      "Starts At: 2023-01-21 15:09:14.303526\n",
      "Completed at: 2023-01-21 15:09:19\n",
      "Total time taken (hh:mm:ss): 0:00:05\n",
      "-------------------------------------------------- Hyper parameter (index=1) --------------------------------------------------\n",
      "{'metric': 'cosine', 'n_neighbors': 3, 'min_dist': 0.01, 'num_cores': 10, 'sample_fraction': '1.0', 'id': 'metric=cosine;n_neighbors=03;min_dist=0.01;num_cores=10;sample_fraction=1.0'}\n",
      "-------------------------------------------------- --------------------------------------------------\n",
      "UMAP running...\n",
      "Starts At: 2023-01-21 15:09:19.130796\n",
      "Completed at: 2023-01-21 15:09:22\n",
      "Total time taken (hh:mm:ss): 0:00:03\n",
      "-------------------------------------------------- Hyper parameter (index=2) --------------------------------------------------\n",
      "{'metric': 'euclidean', 'n_neighbors': 3, 'min_dist': 0.1, 'num_cores': 10, 'sample_fraction': '1.0', 'id': 'metric=euclidean;n_neighbors=03;min_dist=0.10;num_cores=10;sample_fraction=1.0'}\n",
      "-------------------------------------------------- --------------------------------------------------\n",
      "UMAP running...\n",
      "Starts At: 2023-01-21 15:09:22.322282\n",
      "Completed at: 2023-01-21 15:09:25\n",
      "Total time taken (hh:mm:ss): 0:00:03\n",
      "-------------------------------------------------- Hyper parameter (index=3) --------------------------------------------------\n",
      "{'metric': 'cosine', 'n_neighbors': 3, 'min_dist': 0.1, 'num_cores': 10, 'sample_fraction': '1.0', 'id': 'metric=cosine;n_neighbors=03;min_dist=0.10;num_cores=10;sample_fraction=1.0'}\n",
      "-------------------------------------------------- --------------------------------------------------\n",
      "UMAP running...\n",
      "Starts At: 2023-01-21 15:09:25.054967\n",
      "Completed at: 2023-01-21 15:09:28\n",
      "Total time taken (hh:mm:ss): 0:00:03\n",
      "-------------------------------------------------- Hyper parameter (index=4) --------------------------------------------------\n",
      "{'metric': 'euclidean', 'n_neighbors': 5, 'min_dist': 0.01, 'num_cores': 10, 'sample_fraction': '1.0', 'id': 'metric=euclidean;n_neighbors=05;min_dist=0.01;num_cores=10;sample_fraction=1.0'}\n",
      "-------------------------------------------------- --------------------------------------------------\n",
      "UMAP running...\n",
      "Starts At: 2023-01-21 15:09:28.036982\n",
      "Completed at: 2023-01-21 15:09:30\n",
      "Total time taken (hh:mm:ss): 0:00:03\n",
      "-------------------------------------------------- Hyper parameter (index=5) --------------------------------------------------\n",
      "{'metric': 'cosine', 'n_neighbors': 5, 'min_dist': 0.01, 'num_cores': 10, 'sample_fraction': '1.0', 'id': 'metric=cosine;n_neighbors=05;min_dist=0.01;num_cores=10;sample_fraction=1.0'}\n",
      "-------------------------------------------------- --------------------------------------------------\n",
      "UMAP running...\n",
      "Starts At: 2023-01-21 15:09:30.710033\n",
      "Completed at: 2023-01-21 15:09:33\n",
      "Total time taken (hh:mm:ss): 0:00:03\n",
      "-------------------------------------------------- Hyper parameter (index=6) --------------------------------------------------\n",
      "{'metric': 'euclidean', 'n_neighbors': 5, 'min_dist': 0.1, 'num_cores': 10, 'sample_fraction': '1.0', 'id': 'metric=euclidean;n_neighbors=05;min_dist=0.10;num_cores=10;sample_fraction=1.0'}\n",
      "-------------------------------------------------- --------------------------------------------------\n",
      "UMAP running...\n",
      "Starts At: 2023-01-21 15:09:33.741263\n",
      "Completed at: 2023-01-21 15:09:36\n",
      "Total time taken (hh:mm:ss): 0:00:03\n",
      "-------------------------------------------------- Hyper parameter (index=7) --------------------------------------------------\n",
      "{'metric': 'cosine', 'n_neighbors': 5, 'min_dist': 0.1, 'num_cores': 10, 'sample_fraction': '1.0', 'id': 'metric=cosine;n_neighbors=05;min_dist=0.10;num_cores=10;sample_fraction=1.0'}\n",
      "-------------------------------------------------- --------------------------------------------------\n",
      "UMAP running...\n",
      "Starts At: 2023-01-21 15:09:36.566843\n",
      "Completed at: 2023-01-21 15:09:39\n",
      "Total time taken (hh:mm:ss): 0:00:03\n",
      "-------------------------------------------------- Hyper parameter (index=8) --------------------------------------------------\n",
      "{'metric': 'euclidean', 'n_neighbors': 10, 'min_dist': 0.01, 'num_cores': 10, 'sample_fraction': '1.0', 'id': 'metric=euclidean;n_neighbors=10;min_dist=0.01;num_cores=10;sample_fraction=1.0'}\n",
      "-------------------------------------------------- --------------------------------------------------\n",
      "UMAP running...\n",
      "Starts At: 2023-01-21 15:09:39.745078\n",
      "Completed at: 2023-01-21 15:09:42\n",
      "Total time taken (hh:mm:ss): 0:00:03\n",
      "-------------------------------------------------- Hyper parameter (index=9) --------------------------------------------------\n",
      "{'metric': 'cosine', 'n_neighbors': 10, 'min_dist': 0.01, 'num_cores': 10, 'sample_fraction': '1.0', 'id': 'metric=cosine;n_neighbors=10;min_dist=0.01;num_cores=10;sample_fraction=1.0'}\n",
      "-------------------------------------------------- --------------------------------------------------\n",
      "UMAP running...\n",
      "Starts At: 2023-01-21 15:09:42.441042\n",
      "Completed at: 2023-01-21 15:09:45\n",
      "Total time taken (hh:mm:ss): 0:00:03\n",
      "-------------------------------------------------- Hyper parameter (index=10) --------------------------------------------------\n",
      "{'metric': 'euclidean', 'n_neighbors': 10, 'min_dist': 0.1, 'num_cores': 10, 'sample_fraction': '1.0', 'id': 'metric=euclidean;n_neighbors=10;min_dist=0.10;num_cores=10;sample_fraction=1.0'}\n",
      "-------------------------------------------------- --------------------------------------------------\n",
      "UMAP running...\n",
      "Starts At: 2023-01-21 15:09:45.456434\n",
      "Completed at: 2023-01-21 15:09:48\n",
      "Total time taken (hh:mm:ss): 0:00:03\n",
      "-------------------------------------------------- Hyper parameter (index=11) --------------------------------------------------\n",
      "{'metric': 'cosine', 'n_neighbors': 10, 'min_dist': 0.1, 'num_cores': 10, 'sample_fraction': '1.0', 'id': 'metric=cosine;n_neighbors=10;min_dist=0.10;num_cores=10;sample_fraction=1.0'}\n",
      "-------------------------------------------------- --------------------------------------------------\n",
      "UMAP running...\n",
      "Starts At: 2023-01-21 15:09:48.243707\n",
      "Completed at: 2023-01-21 15:09:51\n",
      "Total time taken (hh:mm:ss): 0:00:03\n"
     ]
    }
   ],
   "source": [
    "feature_name = dataset_name\n",
    "selected_feature = np.array([True] * len(data.columns))\n",
    "for e_inp, input_parameter in enumerate(input_parameters):\n",
    "    print('-' * 50, f'Hyper parameter (index={e_inp})', '-' * 50)\n",
    "    print(input_parameter)\n",
    "    print('-' * 50, '-' * 50)\n",
    "    embeddings, time_taken = get_embedding(data, selected_feature, feature_name, data_dir=cache_dir, input_parameter=input_parameter)\n",
    "    df = embeddings.copy()\n",
    "    df = df.reset_index()\n",
    "    df['feature_group'] = [feature_name] * len(df)\n",
    "    for key, val in metadata.items():\n",
    "        if key in ['subject_id', 'time_id', 'x', 'y', 'feature_group']:\n",
    "            continue\n",
    "        df[key] = df['subject_id'].map(lambda x: val.get(str(x), 'UNK'))\n",
    "    df['input_parameter_id'] = [input_parameter['id']] * len(df) \n",
    "    output_df.append(df)\n",
    "    results_data[f\"{feature_name}-{input_parameter['id']}\"] = {\n",
    "            'data': df.copy(),\n",
    "            'embeddings': copy.deepcopy(embeddings),\n",
    "            'time_taken': time_taken,\n",
    "        }"
   ]
  },
  {
   "cell_type": "markdown",
   "id": "4e618abb-2505-41c2-99f1-8fb578d48161",
   "metadata": {},
   "source": [
    "## Save all embeddings"
   ]
  },
  {
   "cell_type": "code",
   "execution_count": 7,
   "id": "eb6bcabd-d117-451a-ae5b-76864675e549",
   "metadata": {},
   "outputs": [
    {
     "name": "stdout",
     "output_type": "stream",
     "text": [
      "-------------------------------------------------- --------------------------------------------------\n",
      "Congratulations!\n",
      "Summarized results for all hyper parameters: results_data/example_PPMI_clinical_assessment_data/umap/generated_data/example_PPMI_clinical_assessment_data_10_1.0.pickle\n"
     ]
    }
   ],
   "source": [
    "output_df = pd.concat(output_df, axis=0)\n",
    "results_data['complete_dataframe'] = output_df\n",
    "results_data['sample_size'] = len(selected_subjects)\n",
    "results_data['feature_size'] = data.shape[0]\n",
    "results_data['time_sequence'] = data.reset_index()['time_id'].unique().shape[0]\n",
    "os.makedirs(result_dir / f\"{dataset_name}/{visualization_method}/generated_data\", exist_ok=True)\n",
    "with open(result_dir / f\"{dataset_name}/{visualization_method}/generated_data/{dataset_name}_{num_cores}{sample_text}.pickle\", 'wb') as handle:\n",
    "    pickle.dump(results_data, handle, protocol=pickle.HIGHEST_PROTOCOL)\n",
    "\n",
    "print('-' * 50, '-' * 50)\n",
    "print(\"Congratulations!\")\n",
    "print(\"Summarized results for all hyper parameters:\", result_dir / f\"{dataset_name}/{visualization_method}/generated_data/{dataset_name}_{num_cores}{sample_text}.pickle\")"
   ]
  },
  {
   "cell_type": "code",
   "execution_count": null,
   "id": "eeb877b4-e2d0-4c60-b42e-ffd9c884946a",
   "metadata": {},
   "outputs": [],
   "source": []
  }
 ],
 "metadata": {
  "kernelspec": {
   "display_name": "Python 3 (ipykernel)",
   "language": "python",
   "name": "python3"
  },
  "language_info": {
   "codemirror_mode": {
    "name": "ipython",
    "version": 3
   },
   "file_extension": ".py",
   "mimetype": "text/x-python",
   "name": "python",
   "nbconvert_exporter": "python",
   "pygments_lexer": "ipython3",
   "version": "3.8.15"
  }
 },
 "nbformat": 4,
 "nbformat_minor": 5
}
